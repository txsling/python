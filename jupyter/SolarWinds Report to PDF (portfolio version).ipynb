{
 "cells": [
  {
   "cell_type": "markdown",
   "id": "2e5cc8b7",
   "metadata": {},
   "source": [
    "# SolarWinds Report to PDF\n",
    "\n",
    "Please contact Tom Ling (Data Analyst, Ekco/Frontier Technology) if updating this file.  \n",
    "*v1.1.0, last updated: 2024-07-31*\n",
    "\n",
    "This Notebook generates PDFs from SolarWinds Orion report URLs.\n",
    "\n",
    "## Instructions\n",
    "1. Run **Prepare Notebook** section.\n",
    "2. Add username and password to Configuration settings, credentials section (for SolarWinds reports). \n",
    "3. Run required cell(s) in the **Data processing** section. \n",
    "\n",
    "Files are outputted to the working directory. "
   ]
  },
  {
   "cell_type": "markdown",
   "id": "ec9cb909",
   "metadata": {},
   "source": [
    "## Prepare Notebook"
   ]
  },
  {
   "cell_type": "code",
   "execution_count": 1,
   "id": "b2ffbc5d",
   "metadata": {},
   "outputs": [],
   "source": [
    "# Standard library imports\n",
    "import sys\n",
    "import os"
   ]
  },
  {
   "cell_type": "code",
   "execution_count": 2,
   "id": "7da400a5",
   "metadata": {},
   "outputs": [],
   "source": [
    "# Create PDF from webpage in Python\n",
    "# https://medium.com/@nikitatonkoshkur25/create-pdf-from-webpage-in-python-1e9603d6a430\n",
    "\n",
    "import base64\n",
    "import json\n",
    "import logging\n",
    "import time\n",
    "from io import BytesIO\n",
    "from typing import List\n",
    "\n",
    "from selenium import webdriver\n",
    "from selenium.webdriver.chrome.service import Service as ChromeService\n",
    "from selenium.webdriver.chrome.options import Options as ChromeOptions\n",
    "from selenium.webdriver.common.keys import Keys\n",
    "from webdriver_manager.chrome import ChromeDriverManager"
   ]
  },
  {
   "cell_type": "code",
   "execution_count": 8,
   "id": "a0106258",
   "metadata": {},
   "outputs": [],
   "source": [
    "# Define functions that handle login to SolarWinds Orion reporting\n",
    "class PdfGenerator:\n",
    "    \"\"\"\n",
    "     Simple use case:\n",
    "        pdf_file = PdfGenerator(['https://google.com']).main()\n",
    "        with open('new_pdf.pdf', \"wb\") as outfile:\n",
    "            outfile.write(pdf_file[0].getbuffer())\n",
    "    \"\"\"\n",
    "    driver = None\n",
    "    # https://chromedevtools.github.io/devtools-protocol/tot/Page#method-printToPDF\n",
    "    print_options = {\n",
    "        'landscape': False,\n",
    "        'displayHeaderFooter': False,\n",
    "        'printBackground': True,\n",
    "        'preferCSSPageSize': True,\n",
    "        'paperWidth': 8.5,\n",
    "        'paperHeight': 11,\n",
    "    }\n",
    "\n",
    "    def __init__(self, urls: List[str]):\n",
    "        self.urls = urls\n",
    "\n",
    "    def _get_pdf_from_url(self, url, *args, **kwargs):\n",
    "        self.driver.get(url)\n",
    "        \n",
    "        if use_solarwinds:\n",
    "            time.sleep(sw_sleep) # allow the page to load, increase if needed\n",
    "        \n",
    "            # SolarWinds reports have unwanted HTML elements if accessed via Selenium. \n",
    "            # These need to be removed before PDFing. \n",
    "            self.driver.execute_script(\n",
    "            \"\"\"\n",
    "            var l = document.getElementsByClassName(\"xui sw-dashboard__editing-buttons\")[0];\n",
    "            l.parentNode.removeChild(l);\n",
    "            \"\"\"\n",
    "            )\n",
    "            self.driver.execute_script(\n",
    "            \"\"\"\n",
    "            var l = document.getElementsByClassName(\"sw-mainnav-branding\")[0];\n",
    "            l.parentNode.removeChild(l);\n",
    "            \"\"\"\n",
    "            )\n",
    "            self.driver.execute_script(\n",
    "            \"\"\"\n",
    "            var l = document.getElementsByClassName(\" sw-btn-secondary sw-btn\")[0];\n",
    "            l.parentNode.removeChild(l);\n",
    "            \"\"\"\n",
    "            )\n",
    "            self.driver.execute_script(\n",
    "            \"\"\"\n",
    "            var l = document.getElementsByClassName(\"sw-hdr-links sw-hdr-links-nested\")[0];\n",
    "            l.parentNode.removeChild(l);\n",
    "            \"\"\"\n",
    "            )\n",
    "            self.driver.execute_script(\n",
    "            \"\"\"\n",
    "            var l = document.getElementsByClassName(\"sw-pg-rpthide\")[0];\n",
    "            l.parentNode.removeChild(l);\n",
    "            \"\"\"\n",
    "            )\n",
    "        else:\n",
    "            time.sleep(0.5)\n",
    "        \n",
    "        print_options = self.print_options.copy()\n",
    "        result = self._send_devtools(self.driver, \"Page.printToPDF\", print_options)\n",
    "        return base64.b64decode(result['data'])\n",
    "\n",
    "    @staticmethod\n",
    "    def _send_devtools(driver, cmd, params):\n",
    "        \"\"\"\n",
    "        Works only with chromedriver.\n",
    "        Method uses chromedriver's api to pass various commands to it.\n",
    "        \"\"\"\n",
    "        resource = \"/session/%s/chromium/send_command_and_get_result\" % driver.session_id\n",
    "        url = driver.command_executor._url + resource\n",
    "        body = json.dumps({'cmd': cmd, 'params': params})\n",
    "        response = driver.command_executor._request('POST', url, body)\n",
    "        return response.get('value')\n",
    "\n",
    "    def _generate_pdfs(self):\n",
    "        pdf_files = []\n",
    "\n",
    "        for url in self.urls:\n",
    "            result = self._get_pdf_from_url(url)\n",
    "            file = BytesIO()\n",
    "            file.write(result)\n",
    "            pdf_files.append(file)\n",
    "\n",
    "        return pdf_files\n",
    "\n",
    "    def main(self) -> List[BytesIO]:\n",
    "        webdriver_options = ChromeOptions()\n",
    "        # Makes Chrome run without opening a window.\n",
    "        webdriver_options.add_argument('--headless')\n",
    "        webdriver_options.add_argument('--disable-gpu')\n",
    "\n",
    "        try:\n",
    "            self.driver = webdriver.Chrome(\n",
    "                service=ChromeService(ChromeDriverManager().install()),\n",
    "                options=webdriver_options\n",
    "            )\n",
    "            \n",
    "            if use_solarwinds: \n",
    "                # Login to SolarWinds using a user account. \n",
    "\n",
    "                self.driver.get(sw_login_url) \n",
    "                time.sleep(2)\n",
    "\n",
    "                username = self.driver.find_element(\"id\", \"ctl00_BodyContent_Username\")\n",
    "                password = self.driver.find_element(\"id\", \"ctl00_BodyContent_Password\")\n",
    "\n",
    "                username.send_keys(sw_username)\n",
    "                password.send_keys(sw_password)\n",
    "\n",
    "                login_attempt = self.driver.find_element(\"id\", \"ctl00_BodyContent_LoginButton\")\n",
    "                login_attempt.submit()\n",
    "                time.sleep(2)\n",
    "               \n",
    "            result = self._generate_pdfs()\n",
    "        finally:\n",
    "            self.driver.close()\n",
    "\n",
    "        return result"
   ]
  },
  {
   "cell_type": "code",
   "execution_count": 14,
   "id": "c70b0776",
   "metadata": {},
   "outputs": [],
   "source": [
    "# Configuration settings that trigger specific behaviour if using SolarWinds. \n",
    "\n",
    "# Set to false if using this workbook for other sites. \n",
    "use_solarwinds = True\n",
    "\n",
    "# Set time delay in seconds, for SolarWinds reports (default: 12s)\n",
    "sw_sleep = 12\n",
    "\n",
    "# Credentials. \n",
    "sw_login_url = \"url.com\"\n",
    "sw_username = \"username\"\n",
    "sw_password = \"\""
   ]
  },
  {
   "cell_type": "markdown",
   "id": "ab7f6b9e",
   "metadata": {},
   "source": [
    "# Inputs"
   ]
  },
  {
   "cell_type": "code",
   "execution_count": 44,
   "id": "6081089c",
   "metadata": {
    "scrolled": true
   },
   "outputs": [],
   "source": [
    "# Test using Google. \n",
    "use_solarwinds = False\n",
    "site_url = \"https://google.com\"\n",
    "pdf_filename = \"google.pdf\""
   ]
  },
  {
   "cell_type": "markdown",
   "id": "a23ad75d",
   "metadata": {},
   "source": [
    "# Data processing"
   ]
  },
  {
   "cell_type": "code",
   "execution_count": 45,
   "id": "06c67c37",
   "metadata": {},
   "outputs": [
    {
     "name": "stdout",
     "output_type": "stream",
     "text": [
      "google.pdf saved.\n"
     ]
    }
   ],
   "source": [
    "# Get PDF of site.\n",
    "pdf_file = PdfGenerator([site_url]).main()\n",
    "with open(pdf_filename, \"wb\") as outfile:\n",
    "    outfile.write(pdf_file[0].getbuffer())\n",
    "print(pdf_filename + \" saved.\")"
   ]
  },
  {
   "cell_type": "code",
   "execution_count": null,
   "id": "681740df",
   "metadata": {},
   "outputs": [],
   "source": [
    "# Multiple reports (here, for FFDB Monthly Infrastructure Reports). \n",
    "# Supply file name and report url as a list of list of str.\n",
    "print(\"Start of loop.\")\n",
    "for url in [['Report Name 1', 'reporturl.aspx?ReportID=464'], \n",
    "            ]: \n",
    "    report_url = url[1]\n",
    "    report_name = url[0] + \".pdf\"\n",
    "\n",
    "    pdf_file = PdfGenerator([report_url]).main()\n",
    "    with open(report_name, \"wb\") as outfile:\n",
    "        outfile.write(pdf_file[0].getbuffer())\n",
    "    print(report_name + \" saved.\")\n",
    "print(\"End of loop.\")"
   ]
  },
  {
   "cell_type": "code",
   "execution_count": null,
   "id": "e47f8b20",
   "metadata": {
    "scrolled": true
   },
   "outputs": [],
   "source": [
    "# One report.\n",
    "# Supply file name and report url as a list of list of str.\n",
    "print(\"Start of loop.\")\n",
    "for url in [['Report Name 1', 'reporturl.aspx?ReportID=100']]: \n",
    "    report_url = url[1]\n",
    "    report_name = url[0] + \".pdf\"\n",
    "\n",
    "    pdf_file = PdfGenerator([report_url]).main()\n",
    "    with open(report_name, \"wb\") as outfile:\n",
    "        outfile.write(pdf_file[0].getbuffer())\n",
    "    print(report_name + \" saved.\")\n",
    "print(\"End of loop.\")"
   ]
  },
  {
   "cell_type": "code",
   "execution_count": null,
   "id": "26c16abd",
   "metadata": {
    "scrolled": true
   },
   "outputs": [],
   "source": [
    "# Multiple reports (here, for Monthly Review). \n",
    "# Supply file name and report url as a list of list of str.\n",
    "print(\"Start of loop.\")\n",
    "for url in [['Report Name 1', 'reporturl.aspx?ReportID=100'],\n",
    "           ['Report Name 2', 'reporturl.aspx?ReportID=101']]: \n",
    "    report_url = url[1]\n",
    "    report_name = url[0] + \".pdf\"\n",
    "\n",
    "    pdf_file = PdfGenerator([report_url]).main()\n",
    "    with open(report_name, \"wb\") as outfile:\n",
    "        outfile.write(pdf_file[0].getbuffer())\n",
    "    print(report_name + \" saved.\")\n",
    "print(\"End of loop.\")"
   ]
  },
  {
   "cell_type": "code",
   "execution_count": null,
   "id": "d8cd99d6",
   "metadata": {
    "scrolled": true
   },
   "outputs": [],
   "source": [
    "# Client Weekly Reports\n",
    "\n",
    "# Increase time delay to 15s.\n",
    "sw_sleep = 50\n",
    "\n",
    "# Supply file name and report url as a list of list of str.\n",
    "print(\"Start of loop.\")\n",
    "for url in [['Report Name 1', 'reporturl.aspx?ReportID=100'],\n",
    "           ['Report Name 2', 'reporturl.aspx?ReportID=101']]: \n",
    "    report_url = url[1]\n",
    "    report_name = url[0] + \".pdf\"\n",
    "\n",
    "    pdf_file = PdfGenerator([report_url]).main()\n",
    "    with open(report_name, \"wb\") as outfile:\n",
    "        outfile.write(pdf_file[0].getbuffer())\n",
    "    print(report_name + \" saved.\")\n",
    "print(\"End of loop.\")"
   ]
  },
  {
   "cell_type": "markdown",
   "id": "41a8027b",
   "metadata": {},
   "source": [
    "# Outputs"
   ]
  },
  {
   "cell_type": "code",
   "execution_count": null,
   "id": "748db48f",
   "metadata": {},
   "outputs": [],
   "source": [
    "# Files are put in the working directory. "
   ]
  }
 ],
 "metadata": {
  "kernelspec": {
   "display_name": "Python 3 (ipykernel)",
   "language": "python",
   "name": "python3"
  },
  "language_info": {
   "codemirror_mode": {
    "name": "ipython",
    "version": 3
   },
   "file_extension": ".py",
   "mimetype": "text/x-python",
   "name": "python",
   "nbconvert_exporter": "python",
   "pygments_lexer": "ipython3",
   "version": "3.9.13"
  }
 },
 "nbformat": 4,
 "nbformat_minor": 5
}
