{
 "cells": [
  {
   "cell_type": "markdown",
   "id": "2e5cc8b7",
   "metadata": {},
   "source": [
    "# Sending Email test\n",
    "\n",
    "Please contact Tom Ling (Data Analyst, Ekco/Frontier Technology) if updating this file.  \n",
    "*v1.0.0, last updated: 2024-07-31*\n",
    "\n",
    "This Notebook demonstrates how to send email from Outlook, using Python.\n",
    "\n",
    "## Instructions\n",
    "1. Run Prepare Notebook section."
   ]
  },
  {
   "cell_type": "markdown",
   "id": "ec9cb909",
   "metadata": {},
   "source": [
    "## Prepare Notebook"
   ]
  },
  {
   "cell_type": "code",
   "execution_count": 31,
   "id": "b2ffbc5d",
   "metadata": {},
   "outputs": [],
   "source": [
    "# Third party imports\n",
    "import win32com.client"
   ]
  },
  {
   "cell_type": "markdown",
   "id": "de5c5037",
   "metadata": {},
   "source": [
    "# Generate and send email"
   ]
  },
  {
   "cell_type": "code",
   "execution_count": 37,
   "id": "9055c7c8",
   "metadata": {},
   "outputs": [],
   "source": [
    "# Sending an email using Python. \n",
    "# Reference: https://www.makeuseof.com/send-outlook-emails-using-python/\n",
    "\n",
    "# Connect Notebook to Outlook client\n",
    "ol = win32com.client.Dispatch('Outlook.Application')\n",
    "\n",
    "# size of the new email\n",
    "olmailitem = 0x0\n",
    "\n",
    "# Create a new email\n",
    "newmail = ol.CreateItem(olmailitem)\n",
    "\n",
    "# Define the parameters of the email\n",
    "newmail.Subject = 'Testing Mail'\n",
    "newmail.To = 'recipient@company.com'\n",
    "# newmail.CC = 'mail1; mail2'\n",
    "newmail.Body= 'Hello, this is a test email to showcase how to send emails from Python and Outlook.'\n",
    "attach = r'C:\\hello.txt'\n",
    "newmail.Attachments.Add(attach)\n",
    "\n",
    "# Preview email\n",
    "newmail.Display()\n",
    "\n",
    "# Send email (without preview)\n",
    "# newmail.Send()"
   ]
  }
 ],
 "metadata": {
  "kernelspec": {
   "display_name": "Python 3 (ipykernel)",
   "language": "python",
   "name": "python3"
  },
  "language_info": {
   "codemirror_mode": {
    "name": "ipython",
    "version": 3
   },
   "file_extension": ".py",
   "mimetype": "text/x-python",
   "name": "python",
   "nbconvert_exporter": "python",
   "pygments_lexer": "ipython3",
   "version": "3.9.13"
  }
 },
 "nbformat": 4,
 "nbformat_minor": 5
}
