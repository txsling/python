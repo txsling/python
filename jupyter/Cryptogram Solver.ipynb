{
 "cells": [
  {
   "cell_type": "markdown",
   "id": "36b3aff2",
   "metadata": {},
   "source": [
    "# Cryptogram Solver\n",
    "\n",
    "Please contact Tom Ling (Data Analyst, Ekco/Frontier Technology) if updating this file.  \n",
    "*v1.0.0, last updated: 2023-12-14*\n",
    "\n",
    "This Notebook solves parts of the GCHQ Christmas Puzzle 2023!\n",
    "\n",
    "## Instructions\n",
    "1. Run **Prepare Notebook** section."
   ]
  },
  {
   "cell_type": "markdown",
   "id": "ec9cb909",
   "metadata": {},
   "source": [
    "## Prepare Notebook"
   ]
  },
  {
   "cell_type": "code",
   "execution_count": 6,
   "id": "b2ffbc5d",
   "metadata": {},
   "outputs": [],
   "source": [
    "# Standard library imports\n",
    "from string import ascii_lowercase"
   ]
  },
  {
   "cell_type": "markdown",
   "id": "ab7f6b9e",
   "metadata": {},
   "source": [
    "# Inputs"
   ]
  },
  {
   "cell_type": "code",
   "execution_count": 25,
   "id": "1672f3a2",
   "metadata": {},
   "outputs": [
    {
     "name": "stdout",
     "output_type": "stream",
     "text": [
      "agklq ldhum qom ndem. gembqgax c 4-hmqqmk vdke. hddp mumkxvomkm. ycxim gq'l umkx diugdsl.\n"
     ]
    }
   ],
   "source": [
    "ciphertext_original = \"Agklq ldhum qom ndem. \\\n",
    "Gembqgax c 4-hmqqmk vdke. \\\n",
    "Hddp mumkxvomkm. \\\n",
    "Ycxim gq'l umkx diugdsl.\"\n",
    "\n",
    "ciphertext = str.lower(ciphertext_original)\n",
    "print(ciphertext)"
   ]
  },
  {
   "cell_type": "markdown",
   "id": "2f418745",
   "metadata": {},
   "source": [
    "# Data processing"
   ]
  },
  {
   "cell_type": "code",
   "execution_count": 16,
   "id": "3faaffe4",
   "metadata": {},
   "outputs": [
    {
     "name": "stdout",
     "output_type": "stream",
     "text": [
      "{'a': '', 'b': '', 'c': '', 'd': '', 'e': '', 'f': '', 'g': '', 'h': '', 'i': '', 'j': '', 'k': '', 'l': '', 'm': '', 'n': '', 'o': '', 'p': '', 'q': '', 'r': '', 's': '', 't': '', 'u': '', 'v': '', 'w': '', 'x': '', 'y': '', 'z': ''}\n"
     ]
    }
   ],
   "source": [
    "mapping = {}\n",
    "\n",
    "for c in ascii_lowercase:\n",
    "    mapping[c] = \"\"\n",
    "    \n",
    "print(mapping)"
   ]
  },
  {
   "cell_type": "code",
   "execution_count": 23,
   "id": "530d0881",
   "metadata": {},
   "outputs": [
    {
     "name": "stdout",
     "output_type": "stream",
     "text": [
      "{'a': 2, 'b': 1, 'c': 2, 'd': 7, 'e': 3, 'f': 0, 'g': 5, 'h': 3, 'i': 2, 'j': 0, 'k': 6, 'l': 4, 'm': 12, 'n': 1, 'o': 2, 'p': 1, 'q': 6, 'r': 0, 's': 1, 't': 0, 'u': 4, 'v': 2, 'w': 0, 'x': 4, 'y': 1, 'z': 0, '4': 1, '-': 1, ' ': 13, '.': 4}\n"
     ]
    }
   ],
   "source": [
    "frequencies = {}\n",
    "for c in ascii_lowercase:\n",
    "    frequencies[c] = 0\n",
    "frequencies[\"4\"] = 0\n",
    "frequencies[\"-\"] = 0\n",
    "frequencies[\" \"] = 0\n",
    "frequencies[\".\"] = 0\n",
    "for letter in ciphertext: \n",
    "    if letter not in [\"'\"]:\n",
    "        frequencies[letter] += 1\n",
    "print(frequencies)"
   ]
  },
  {
   "cell_type": "code",
   "execution_count": 24,
   "id": "b42fe2ac",
   "metadata": {
    "scrolled": false
   },
   "outputs": [
    {
     "data": {
      "image/png": "[encoded data removed]",
      "text/plain": [
       "<Figure size 640x480 with 1 Axes>"
      ]
     },
     "metadata": {},
     "output_type": "display_data"
    }
   ],
   "source": [
    "import matplotlib.pyplot as plt\n",
    "\n",
    "D = frequencies\n",
    "\n",
    "plt.bar(range(len(D)), list(D.values()), align='center')\n",
    "plt.xticks(range(len(D)), list(D.keys()))\n",
    "# # for python 2.x:\n",
    "# plt.bar(range(len(D)), D.values(), align='center')  # python 2.x\n",
    "# plt.xticks(range(len(D)), D.keys())  # in python 2.x\n",
    "\n",
    "plt.show()"
   ]
  },
  {
   "cell_type": "code",
   "execution_count": 54,
   "id": "8e3483ba",
   "metadata": {},
   "outputs": [
    {
     "name": "stdout",
     "output_type": "stream",
     "text": [
      "{'a': 'F', 'b': 'N', 'c': 'A', 'd': 'O', 'e': 'D', 'f': '', 'g': 'I', 'h': 'L', 'i': 'B', 'j': '', 'k': 'R', 'l': 'S', 'm': 'E', 'n': 'C', 'o': 'H', 'p': 'K', 'q': 'T', 'r': '', 's': 'U', 't': '', 'u': 'V', 'v': 'W', 'w': '', 'x': 'Y', 'y': 'M', 'z': ''}\n",
      "FIRST SOLVE THE CODE. IDENTIFY A 4-LETTER WORD. LOOK EVERYWHERE. MAYBE IT'S VERY OBVIOUS.\n"
     ]
    }
   ],
   "source": [
    "mapping[\"a\"] = 'F'\n",
    "mapping[\"b\"] = 'N'\n",
    "mapping[\"c\"] = 'A'\n",
    "mapping[\"d\"] = 'O'\n",
    "mapping[\"e\"] = 'D'\n",
    "mapping[\"g\"] = 'I'\n",
    "mapping[\"h\"] = 'L'\n",
    "mapping[\"i\"] = 'B'\n",
    "mapping[\"k\"] = 'R'\n",
    "mapping[\"l\"] = 'S'\n",
    "mapping[\"m\"] = 'E'\n",
    "mapping[\"n\"] = 'C'\n",
    "mapping[\"o\"] = 'H'\n",
    "mapping[\"p\"] = 'K'\n",
    "mapping[\"q\"] = 'T'\n",
    "mapping[\"s\"] = 'U'\n",
    "mapping[\"u\"] = 'V'\n",
    "mapping[\"v\"] = 'W'\n",
    "mapping[\"x\"] = 'Y'\n",
    "mapping[\"y\"] = 'M'\n",
    "print(mapping)\n",
    "\n",
    "plaintext = ''\n",
    "for letter in ciphertext: \n",
    "    if letter.isalpha(): \n",
    "        if mapping[letter] == '': \n",
    "            # plaintext = plaintext + \"_\"\n",
    "            plaintext = plaintext + letter\n",
    "        else: \n",
    "            plaintext = plaintext + mapping[letter]\n",
    "    else: \n",
    "        plaintext = plaintext + letter\n",
    "print(plaintext)"
   ]
  },
  {
   "cell_type": "code",
   "execution_count": 61,
   "id": "261389d3",
   "metadata": {},
   "outputs": [
    {
     "name": "stdout",
     "output_type": "stream",
     "text": [
      "yuletidefelicitations\n"
     ]
    }
   ],
   "source": [
    "# Overall puzzle\n",
    "answers = {\"time\", \"day\", \"pudding\", \"tree\", \"stocking\", \"carol\", \"film\"}\n",
    "answer_map = {\n",
    "    \"G\": \"day\",\n",
    "    \"U\": \"pudding\",\n",
    "    \"B\": \"film\",\n",
    "    \"Y\": \"time\",\n",
    "    \"R\": \"tree\",\n",
    "    \"N\": \"carol\",\n",
    "    \"W\": \"stocking\",\n",
    "}\n",
    "\n",
    "# Max count: \n",
    "# W6, U6, N5, R4, Y4, G3, B3\n",
    "\n",
    "final_question = [\"3G\",\"2U\",\"3B\",\"4Y\",\"1R\",\"6W\",\"1G\",\"3R\",\"1B\",\"4R\",\"5N\",\"2B\",\"1N\",\"2Y\",\"2W\",\"2G\",\"1Y\",\"5U\",\"4N\",\"6U\",\"1W\"]\n",
    "final_answer = \"\"\n",
    "\n",
    "for digraph in final_question:     \n",
    "    answer_word = answer_map[digraph[1]]\n",
    "    answer_letter = answer_word[int(digraph[0])-1]\n",
    "    final_answer = final_answer + answer_letter\n",
    "print(final_answer)"
   ]
  },
  {
   "cell_type": "markdown",
   "id": "41a8027b",
   "metadata": {},
   "source": [
    "# Outputs"
   ]
  },
  {
   "cell_type": "code",
   "execution_count": 62,
   "id": "df42fa5d",
   "metadata": {},
   "outputs": [
    {
     "name": "stdout",
     "output_type": "stream",
     "text": [
      "yuletidefelicitations\n"
     ]
    }
   ],
   "source": [
    "print(final_answer)"
   ]
  }
 ],
 "metadata": {
  "kernelspec": {
   "display_name": "Python 3 (ipykernel)",
   "language": "python",
   "name": "python3"
  },
  "language_info": {
   "codemirror_mode": {
    "name": "ipython",
    "version": 3
   },
   "file_extension": ".py",
   "mimetype": "text/x-python",
   "name": "python",
   "nbconvert_exporter": "python",
   "pygments_lexer": "ipython3",
   "version": "3.9.13"
  }
 },
 "nbformat": 4,
 "nbformat_minor": 5
}
